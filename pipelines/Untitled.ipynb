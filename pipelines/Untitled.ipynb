{
 "cells": [
  {
   "cell_type": "markdown",
   "metadata": {},
   "source": [
    "lists\n",
    "\n",
    "# Common competition pipeline\n",
    "\n",
    "# Exploratory data analysis\n",
    "## Statistics\n",
    "## Boxplots\n",
    "\n",
    "# Data Cleaning\n",
    "## Fill N/A\n",
    "## Categories cleaning\n",
    "## Categories merge\n",
    "\n",
    "# Data preparation\n",
    "## Common preparation\n",
    "### Label encoding\n",
    "### OHE\n",
    "### Frequency\n",
    "### Scaling\n",
    "\n",
    "## Neural networks\n",
    "## Decision trees\n",
    "## Time series\n",
    "## Computer vision\n",
    "## Text\n",
    "### Count, TF-IDF, Hash\n",
    "### Embeddings: Glove, Word2Vec, Fasttext\n",
    "\n",
    "# Models\n",
    "## Linear models\n",
    "## Tree models: LGB/XGB/Catboost\n",
    "## Neural networks: CNN, RNN, Autoencorders\n",
    "## Exotic\n",
    "\n",
    "# Hyperparameters search\n",
    "## Bayesian optimization\n",
    "## hyperopt\n",
    "\n",
    "# Feature selection\n",
    "## Shuffle\n",
    "## Target permutation\n",
    "## Boruta\n",
    "## RFE\n",
    "\n",
    "# Ensemble"
   ]
  },
  {
   "cell_type": "code",
   "execution_count": null,
   "metadata": {},
   "outputs": [],
   "source": []
  }
 ],
 "metadata": {
  "kernelspec": {
   "display_name": "Python 3",
   "language": "python",
   "name": "python3"
  },
  "language_info": {
   "codemirror_mode": {
    "name": "ipython",
    "version": 3
   },
   "file_extension": ".py",
   "mimetype": "text/x-python",
   "name": "python",
   "nbconvert_exporter": "python",
   "pygments_lexer": "ipython3",
   "version": "3.7.3"
  }
 },
 "nbformat": 4,
 "nbformat_minor": 4
}
